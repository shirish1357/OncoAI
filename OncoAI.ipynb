{
 "cells": [
  {
   "cell_type": "markdown",
   "id": "32436269-1047-4257-822e-081fe9749968",
   "metadata": {},
   "source": [
    "# OncoAssist: Oncology Support Assistant\n",
    "\n",
    "This assistant provides general information about cancer types and treatment modalities, offers guidance on managing common side effects, suggests support resources, and gives treatment overviews. \n",
    "\n",
    "**Disclaimer:** All information provided is for general informational purposes only and is not a substitute for professional medical advice.\n",
    "\n",
    "\n",
    "\n",
    "\n",
    "\n",
    "\n",
    "\n",
    "\n"
   ]
  },
  {
   "cell_type": "markdown",
   "id": "7b803f59-7877-4dd4-b616-dee4d124f869",
   "metadata": {},
   "source": [
    "### Imports"
   ]
  },
  {
   "cell_type": "code",
   "execution_count": 1,
   "id": "d49d865b-3d49-4c11-b607-a6c786733bb7",
   "metadata": {},
   "outputs": [],
   "source": [
    "import os\n",
    "import json\n",
    "from dotenv import load_dotenv\n",
    "from openai import OpenAI\n",
    "import gradio as gr"
   ]
  },
  {
   "cell_type": "markdown",
   "id": "ef72085d-ba0e-4475-baee-2e66fc72006e",
   "metadata": {},
   "source": [
    "### Initialization"
   ]
  },
  {
   "cell_type": "code",
   "execution_count": 2,
   "id": "0232a675-210b-4f35-9936-7211a5f7e1c0",
   "metadata": {},
   "outputs": [
    {
     "name": "stdout",
     "output_type": "stream",
     "text": [
      "OpenAI API Key exists and begins sk-proj-\n"
     ]
    }
   ],
   "source": [
    "load_dotenv(override=True)\n",
    "openai_api_key = os.getenv('OPENAI_API_KEY')\n",
    "if openai_api_key:\n",
    "    print(\"OpenAI API Key exists and begins\", openai_api_key[:8])\n",
    "else:\n",
    "    print(\"OpenAI API Key not set\")\n",
    "\n",
    "MODEL = \"gpt-4o-mini\"\n",
    "openai = OpenAI()"
   ]
  },
  {
   "cell_type": "markdown",
   "id": "11993bcd-2afd-43c0-87dd-0e175ffbf3b7",
   "metadata": {},
   "source": [
    "### Define Data for Tools"
   ]
  },
  {
   "cell_type": "code",
   "execution_count": 3,
   "id": "b07a9431-2356-42bf-aa23-4cdb9d194a75",
   "metadata": {},
   "outputs": [],
   "source": [
    "# Data for general cancer information\n",
    "cancer_info = {\n",
    "    \"breast cancer\": \"Breast cancer forms in the cells of the breasts. Common treatments include surgery, chemotherapy, radiation, and hormone therapy.\",\n",
    "    \"lung cancer\": \"Lung cancer is often linked to smoking and involves malignant growths in lung tissues. Treatments include surgery, chemotherapy, and targeted therapy.\",\n",
    "    # Add additional cancer types as needed.\n",
    "}\n",
    "\n",
    "# Data for side effect management advice\n",
    "side_effect_advice = {\n",
    "    \"nausea\": \"For nausea, try eating small, frequent meals and staying well hydrated. If it persists, please consult your healthcare provider.\",\n",
    "    \"fatigue\": \"For fatigue, ensure you rest adequately and maintain light activity as tolerated. Persistent fatigue should be discussed with your doctor.\",\n",
    "    \"pain\": \"For managing pain, over-the-counter pain relievers may help; however, please seek professional guidance for chronic or severe pain.\",\n",
    "}\n",
    "\n",
    "# Data for support resources\n",
    "support_resources_data = {\n",
    "    \"national\": {\n",
    "        \"American Cancer Society\": \"https://www.cancer.org\",\n",
    "        \"National Cancer Institute\": \"https://www.cancer.gov\",\n",
    "        \"Cancer Support Community\": \"https://www.cancersupportcommunity.org\"\n",
    "    },\n",
    "    \"local\": {\n",
    "        # Example: region-specific support could be added here.\n",
    "        \"default\": \"For local support, please consult your healthcare provider or local hospital.\"\n",
    "    }\n",
    "}\n",
    "\n",
    "# Data for treatment overviews\n",
    "treatment_overviews = {\n",
    "    \"chemotherapy\": \"Chemotherapy uses drugs to kill cancer cells. It may be used alone or in combination with other treatments. Side effects vary by patient.\",\n",
    "    \"immunotherapy\": \"Immunotherapy leverages the body's immune system to fight cancer. It is effective for certain cancers with specific markers.\",\n",
    "    \"radiation\": \"Radiation therapy uses high-energy rays to target and kill cancer cells, often shrinking tumors before surgery.\",\n",
    "    \"surgery\": \"Surgery involves the physical removal of tumors and is often the first line of treatment for many cancers.\",\n",
    "}"
   ]
  },
  {
   "cell_type": "markdown",
   "id": "e39626eb-2dfc-4773-8060-eedca691e1ea",
   "metadata": {},
   "source": [
    "## Tools"
   ]
  },
  {
   "cell_type": "markdown",
   "id": "9b3ed3a3-acec-41ea-9208-2e2433f14fe9",
   "metadata": {},
   "source": [
    "### Tool 1: General Information and Education"
   ]
  },
  {
   "cell_type": "code",
   "execution_count": 4,
   "id": "fb03ff42-1adf-4852-a313-7a93a51318b8",
   "metadata": {},
   "outputs": [],
   "source": [
    "def get_general_info(cancer_type):\n",
    "    info = cancer_info.get(cancer_type.lower(), \"No specific information available for this cancer type.\")\n",
    "    disclaimer = \"Disclaimer: This information is for educational purposes only and is not a substitute for professional medical advice.\"\n",
    "    return f\"{info} {disclaimer}\"\n",
    "\n",
    "general_info_function = {\n",
    "    \"name\": \"get_general_info\",\n",
    "    \"description\": \"Provides general information and education on a specific type of cancer.\",\n",
    "    \"parameters\": {\n",
    "        \"type\": \"object\",\n",
    "        \"properties\": {\n",
    "            \"cancer_type\": {\n",
    "                \"type\": \"string\",\n",
    "                \"description\": \"The type of cancer (e.g., breast cancer, lung cancer)\"\n",
    "            },\n",
    "        },\n",
    "        \"required\": [\"cancer_type\"],\n",
    "        \"additionalProperties\": False\n",
    "    }\n",
    "}"
   ]
  },
  {
   "cell_type": "markdown",
   "id": "bd261930-517e-492a-a99d-cd3f6a795073",
   "metadata": {},
   "source": [
    "### Tool 2: Symptom and Side Effect Management"
   ]
  },
  {
   "cell_type": "code",
   "execution_count": 5,
   "id": "d7aeb2f7-8e3c-46f9-b070-9cd6ba6fcb04",
   "metadata": {},
   "outputs": [],
   "source": [
    "def get_side_effect_management(side_effect):\n",
    "    advice = side_effect_advice.get(side_effect.lower(), \"No specific advice available for this side effect.\")\n",
    "    disclaimer = \"Disclaimer: This advice is general and not a substitute for professional medical care.\"\n",
    "    return f\"{advice} {disclaimer}\"\n",
    "\n",
    "side_effect_function = {\n",
    "    \"name\": \"get_side_effect_management\",\n",
    "    \"description\": \"Provides general advice on managing side effects of cancer treatments.\",\n",
    "    \"parameters\": {\n",
    "        \"type\": \"object\",\n",
    "        \"properties\": {\n",
    "            \"side_effect\": {\n",
    "                \"type\": \"string\",\n",
    "                \"description\": \"The side effect you need advice on (e.g., nausea, fatigue, pain)\"\n",
    "            },\n",
    "        },\n",
    "        \"required\": [\"side_effect\"],\n",
    "        \"additionalProperties\": False\n",
    "    }\n",
    "}"
   ]
  },
  {
   "cell_type": "markdown",
   "id": "e05a181a-d88c-401f-a97a-d57da1e8c9d2",
   "metadata": {},
   "source": [
    "### Tool 3: Support Resources"
   ]
  },
  {
   "cell_type": "code",
   "execution_count": 6,
   "id": "b4801ea4-8365-40c1-beb2-b875abbf5bcd",
   "metadata": {},
   "outputs": [],
   "source": [
    "def get_support_resources(region=None):\n",
    "    resources = support_resources_data.get(\"national\")\n",
    "    # Optionally, include local support if region is specified and available\n",
    "    if region and region.lower() in support_resources_data.get(\"local\", {}):\n",
    "        local_support = support_resources_data[\"local\"][region.lower()]\n",
    "        resources[\"Local Support\"] = local_support\n",
    "    disclaimer = \"Disclaimer: This information is provided for general guidance and should be verified locally.\"\n",
    "    return {\"resources\": resources, \"disclaimer\": disclaimer}\n",
    "\n",
    "support_resources_function = {\n",
    "    \"name\": \"get_support_resources\",\n",
    "    \"description\": \"Provides contact information and links for cancer support resources.\",\n",
    "    \"parameters\": {\n",
    "        \"type\": \"object\",\n",
    "        \"properties\": {\n",
    "            \"region\": {\n",
    "                \"type\": \"string\",\n",
    "                \"description\": \"Optional: Specify a region to get localized support resources.\"\n",
    "            },\n",
    "        },\n",
    "        \"required\": [],\n",
    "        \"additionalProperties\": False\n",
    "    }\n",
    "}"
   ]
  },
  {
   "cell_type": "markdown",
   "id": "bac32c00-a344-4338-add6-e9da11ae3ab2",
   "metadata": {},
   "source": [
    "### Tool 4: Treatment Overview"
   ]
  },
  {
   "cell_type": "code",
   "execution_count": 7,
   "id": "167d0bf8-d455-4d98-9948-c9cf7ed964cf",
   "metadata": {},
   "outputs": [],
   "source": [
    "def get_treatment_overview(treatment_type):\n",
    "    overview = treatment_overviews.get(treatment_type.lower(), \"No information available for this treatment type.\")\n",
    "    disclaimer = \"Disclaimer: This overview is for informational purposes only. Please consult your oncology team for personalized advice.\"\n",
    "    return f\"{overview} {disclaimer}\"\n",
    "\n",
    "treatment_overview_function = {\n",
    "    \"name\": \"get_treatment_overview\",\n",
    "    \"description\": \"Provides an overview of a specific cancer treatment modality.\",\n",
    "    \"parameters\": {\n",
    "        \"type\": \"object\",\n",
    "        \"properties\": {\n",
    "            \"treatment_type\": {\n",
    "                \"type\": \"string\",\n",
    "                \"description\": \"The type of treatment (e.g., chemotherapy, immunotherapy, radiation, surgery)\"\n",
    "            },\n",
    "        },\n",
    "        \"required\": [\"treatment_type\"],\n",
    "        \"additionalProperties\": False\n",
    "    }\n",
    "}"
   ]
  },
  {
   "cell_type": "markdown",
   "id": "8f759877-e812-450c-bcd5-1a3ae9786e15",
   "metadata": {},
   "source": [
    "### Combining all tools into a list"
   ]
  },
  {
   "cell_type": "code",
   "execution_count": 8,
   "id": "974e2534-312e-4412-aa07-fa24952b29c3",
   "metadata": {},
   "outputs": [],
   "source": [
    "tools = [\n",
    "    {\"type\": \"function\", \"function\": general_info_function},\n",
    "    {\"type\": \"function\", \"function\": side_effect_function},\n",
    "    {\"type\": \"function\", \"function\": support_resources_function},\n",
    "    {\"type\": \"function\", \"function\": treatment_overview_function},\n",
    "]"
   ]
  },
  {
   "cell_type": "markdown",
   "id": "b82b1eab-d985-43f5-9d7b-e5fd5294ba96",
   "metadata": {},
   "source": [
    "## Defining the System Message"
   ]
  },
  {
   "cell_type": "code",
   "execution_count": 9,
   "id": "900c6694-1d9e-427e-8b84-81042ed5e5f4",
   "metadata": {},
   "outputs": [],
   "source": [
    "system_message = \"\"\"You are OncoAssist, a compassionate oncology support assistant.\n",
    "You provide general information about cancer types, manage common treatment side effects, suggest support resources, and offer treatment overviews.\n",
    "Disclaimer: This tool is for general informational purposes only and is not a substitute for professional medical advice. Always consult your healthcare provider for personalized recommendations.\"\"\""
   ]
  },
  {
   "cell_type": "markdown",
   "id": "41352900-4bab-494a-acce-b83ce42b1395",
   "metadata": {},
   "source": [
    "## Chat Function to Handle Multiple Tool Calls"
   ]
  },
  {
   "cell_type": "code",
   "execution_count": 10,
   "id": "4a83a6b3-64eb-4c45-8f9b-c01002e07542",
   "metadata": {},
   "outputs": [],
   "source": [
    "def chat(message, history):\n",
    "    # Convert Gradio history format to OpenAI message format\n",
    "    messages = [{\"role\": \"system\", \"content\": system_message}]\n",
    "    \n",
    "    # Add previous conversation from history\n",
    "    for h in history:\n",
    "        user_msg, assistant_msg = h\n",
    "        messages.append({\"role\": \"user\", \"content\": user_msg})\n",
    "        messages.append({\"role\": \"assistant\", \"content\": assistant_msg})\n",
    "    \n",
    "    # Add the current user message\n",
    "    messages.append({\"role\": \"user\", \"content\": message})\n",
    "    \n",
    "    # Call the OpenAI Chat API (or simulate it) with the available tools\n",
    "    response = openai.chat.completions.create(model=MODEL, messages=messages, tools=tools)\n",
    "    \n",
    "    # Handle tool calls (limit to avoid infinite loops)\n",
    "    max_tool_calls = 3\n",
    "    tool_call_count = 0\n",
    "    \n",
    "    while response.choices[0].finish_reason == \"tool_calls\" and tool_call_count < max_tool_calls:\n",
    "        tool_call_count += 1\n",
    "        bot_message = response.choices[0].message\n",
    "        messages.append({\"role\": \"assistant\", \"content\": bot_message.content, \"tool_calls\": bot_message.tool_calls})\n",
    "        \n",
    "        # Process each tool call in the response\n",
    "        for tool_call in bot_message.tool_calls:\n",
    "            function_name = tool_call.function.name\n",
    "            arguments = json.loads(tool_call.function.arguments)\n",
    "            \n",
    "            # Call the appropriate function based on the function name\n",
    "            result = call_tool_function(function_name, arguments)\n",
    "            \n",
    "            # Add the tool response to the messages\n",
    "            tool_response = {\n",
    "                \"role\": \"tool\",\n",
    "                \"content\": json.dumps(result),\n",
    "                \"tool_call_id\": tool_call.id\n",
    "            }\n",
    "            messages.append(tool_response)\n",
    "        \n",
    "        # Get a new response that includes the tool results\n",
    "        response = openai.chat.completions.create(model=MODEL, messages=messages)\n",
    "    \n",
    "    return response.choices[0].message.content"
   ]
  },
  {
   "cell_type": "markdown",
   "id": "e21ed2d1-2ef4-4bd2-ba77-95fd8accb9f5",
   "metadata": {},
   "source": [
    "### Helper Function to Route the Right Tool Call"
   ]
  },
  {
   "cell_type": "code",
   "execution_count": 11,
   "id": "423ae3f5-37b4-4a6c-9cd6-64384f1efcc7",
   "metadata": {},
   "outputs": [],
   "source": [
    "def call_tool_function(function_name, arguments):\n",
    "    if function_name == \"get_general_info\":\n",
    "        cancer_type = arguments.get('cancer_type')\n",
    "        info = get_general_info(cancer_type)\n",
    "        return {\"cancer_type\": cancer_type, \"info\": info}\n",
    "    \n",
    "    elif function_name == \"get_side_effect_management\":\n",
    "        side_effect = arguments.get('side_effect')\n",
    "        advice = get_side_effect_management(side_effect)\n",
    "        return {\"side_effect\": side_effect, \"advice\": advice}\n",
    "    \n",
    "    elif function_name == \"get_support_resources\":\n",
    "        region = arguments.get('region')\n",
    "        resources = get_support_resources(region)\n",
    "        return {\"region\": region, \"resources\": resources}\n",
    "    \n",
    "    elif function_name == \"get_treatment_overview\":\n",
    "        treatment_type = arguments.get('treatment_type')\n",
    "        overview = get_treatment_overview(treatment_type)\n",
    "        return {\"treatment_type\": treatment_type, \"overview\": overview}\n",
    "    \n",
    "    return {\"error\": f\"Unknown function: {function_name}\"}"
   ]
  },
  {
   "cell_type": "markdown",
   "id": "c9c243b4-c14e-44bc-a74d-a46be4885115",
   "metadata": {},
   "source": [
    "### User Interface"
   ]
  },
  {
   "cell_type": "code",
   "execution_count": 12,
   "id": "bd6dd274-82bb-41b5-bf5b-2c0d5d8468eb",
   "metadata": {},
   "outputs": [
    {
     "name": "stderr",
     "output_type": "stream",
     "text": [
      "/opt/anaconda3/envs/llms/lib/python3.11/site-packages/gradio/components/chatbot.py:285: UserWarning: You have not specified a value for the `type` parameter. Defaulting to the 'tuples' format for chatbot messages, but this is deprecated and will be removed in a future version of Gradio. Please set type='messages' instead, which uses openai-style dictionaries with 'role' and 'content' keys.\n",
      "  warnings.warn(\n",
      "/opt/anaconda3/envs/llms/lib/python3.11/site-packages/gradio/chat_interface.py:317: UserWarning: The gr.ChatInterface was not provided with a type, so the type of the gr.Chatbot, 'tuples', will be used.\n",
      "  warnings.warn(\n"
     ]
    },
    {
     "name": "stdout",
     "output_type": "stream",
     "text": [
      "* Running on local URL:  http://127.0.0.1:7889\n",
      "\n",
      "To create a public link, set `share=True` in `launch()`.\n"
     ]
    },
    {
     "data": {
      "text/html": [
       "<div><iframe src=\"http://127.0.0.1:7889/\" width=\"100%\" height=\"500\" allow=\"autoplay; camera; microphone; clipboard-read; clipboard-write;\" frameborder=\"0\" allowfullscreen></iframe></div>"
      ],
      "text/plain": [
       "<IPython.core.display.HTML object>"
      ]
     },
     "metadata": {},
     "output_type": "display_data"
    },
    {
     "data": {
      "text/plain": []
     },
     "execution_count": 12,
     "metadata": {},
     "output_type": "execute_result"
    }
   ],
   "source": [
    "# Using Gradio\n",
    "\n",
    "with gr.Blocks() as demo:\n",
    "    gr.Markdown(\"# OncoAI: Oncology Support Assistant\")\n",
    "    \n",
    "    chatbot = gr.ChatInterface(\n",
    "        fn=chat,\n",
    "        chatbot=gr.Chatbot(height=500),\n",
    "        title=\"Chat with OncoAI\",\n",
    "        description=\"Ask about cancer types, treatment options, managing side effects, and support resources.\",\n",
    "        examples=[\n",
    "            \"What is breast cancer?\",\n",
    "            \"What can I do for nausea after chemotherapy?\",\n",
    "            \"Can you help me find support groups?\",\n",
    "            \"Tell me about immunotherapy.\"\n",
    "        ]\n",
    "    )\n",
    "    \n",
    "    with gr.Accordion(\"Available Cancer Types\", open=False):\n",
    "        types = \", \".join([t.title() for t in cancer_info.keys()])\n",
    "        gr.Markdown(types)\n",
    "    \n",
    "    with gr.Accordion(\"Supported Features\", open=False):\n",
    "        gr.Markdown(\n",
    "            \"\"\"\n",
    "            - General cancer information and education\n",
    "            - Management of common treatment side effects\n",
    "            - Guidance on support resources and counseling services\n",
    "            - Overview of treatment modalities\n",
    "            \"\"\"\n",
    "        )\n",
    "\n",
    "# Launch the application\n",
    "demo.launch()"
   ]
  },
  {
   "cell_type": "code",
   "execution_count": null,
   "id": "b03e76a0-291c-43db-9082-3eeb2fd5fafc",
   "metadata": {},
   "outputs": [],
   "source": []
  }
 ],
 "metadata": {
  "kernelspec": {
   "display_name": "Python 3 (ipykernel)",
   "language": "python",
   "name": "python3"
  },
  "language_info": {
   "codemirror_mode": {
    "name": "ipython",
    "version": 3
   },
   "file_extension": ".py",
   "mimetype": "text/x-python",
   "name": "python",
   "nbconvert_exporter": "python",
   "pygments_lexer": "ipython3",
   "version": "3.11.11"
  }
 },
 "nbformat": 4,
 "nbformat_minor": 5
}
